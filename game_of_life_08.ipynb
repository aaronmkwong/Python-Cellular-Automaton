{
 "cells": [
  {
   "cell_type": "code",
   "execution_count": 1,
   "metadata": {
    "scrolled": true
   },
   "outputs": [],
   "source": [
    "# get libraries \n",
    "\n",
    "import numpy as np # to work with arrays\n",
    "import random as rand # to work with initial conditions\n",
    "import matplotlib.pyplot as plt # to display matrix  \n",
    "from IPython.display import clear_output # to clear previous matrix display\n",
    "import imageio # to work with gif\n",
    "import itertools # to create matrix index list of lists\n",
    "from PIL import Image # used to read images to list from directory\n",
    "import glob "
   ]
  },
  {
   "cell_type": "code",
   "execution_count": 2,
   "metadata": {
    "scrolled": true
   },
   "outputs": [],
   "source": [
    "# inital structure\n",
    "\n",
    "arrays = [] # initialize list of arrays; elements to be displayed in sequence with matplot\n",
    "no_arrays = 100 # number of arrays in list after initial state\n",
    "array_dim = 100 # array element row/column dimensions; must be even \n",
    "\n",
    "# initial condition\n",
    "\n",
    "# test01 all cells random 100 generations\n",
    "# array0 = np.random.randint(2, size=(array_dim,array_dim) ) # random first array\n",
    "\n",
    "# test02 1 row randomly chosen 100 generations\n",
    "# array0 = np.zeros([array_dim, array_dim]) # default array with all zeros\n",
    "# array0_row = np.random.randint(low=0, high=array_dim) # select a random row\n",
    "# array0[array0_row] = [ 1 for x in range(0,array_dim) ] # write all values in randomly selected row to 1 \n",
    "\n",
    "# test03 # all cells randomly chosen with probaility of 1 at 10% 100 generations\n",
    "p1 = 0.1\n",
    "array0 = np.random.choice([0, 1], p=[ 1 - p1, p1], size=(array_dim, array_dim))"
   ]
  },
  {
   "cell_type": "code",
   "execution_count": 3,
   "metadata": {
    "scrolled": true
   },
   "outputs": [],
   "source": [
    "# matrix adjacent index positions\n",
    "\n",
    "# list of index positions for each row or column based on array_dim initial condition  \n",
    "array_dim_list = [x for x in range(0,array_dim)] \n",
    "\n",
    "# list of tuples of (row,col) index positions for each cell in matrix\n",
    "matrix_indices = list(itertools.product(array_dim_list, array_dim_list))\n",
    "\n",
    "# create list of lists of the 8 adjacent index positions for each cell in matrix \n",
    "adj_idx_of_matrix_cell = []\n",
    "\n",
    "for idx in matrix_indices:\n",
    "    \n",
    "    for _ in range(8):\n",
    "        \n",
    "        adj_idx = [ (idx[0]-1, idx[1]-1), (idx[0]-1, idx[1]+0), (idx[0]-1, idx[1]+1),\n",
    "                    (idx[0]+0, idx[1]-1),                       (idx[0]+0, idx[1]+1),\n",
    "                    (idx[0]+1, idx[1]-1), (idx[0]+1, idx[1]+0), (idx[0]+1, idx[1]+1) \n",
    "                  ]\n",
    "                   \n",
    "    adj_idx_of_matrix_cell.append(adj_idx) "
   ]
  },
  {
   "cell_type": "code",
   "execution_count": 4,
   "metadata": {
    "scrolled": true
   },
   "outputs": [],
   "source": [
    "# function to create new generation\n",
    "\n",
    "def create_new_generation(old_generation):\n",
    "    \n",
    "    # create a list of a count of neighbours adjacent to each cell in old generation\n",
    "\n",
    "    neighbours_list = []\n",
    "\n",
    "    for cell in adj_idx_of_matrix_cell:\n",
    "    \n",
    "        neighbours = 0\n",
    "    \n",
    "        for adj_idx in cell:\n",
    "        \n",
    "            # handle adjacent cells row/col index that are outside matrix index positions    \n",
    "            # note that -1 index references refer to the end of element of list, so try/except did not work\n",
    "            if adj_idx[0] < 0 or adj_idx[0] > (array_dim -1) or adj_idx[1] < 0 or adj_idx[1] > (array_dim -1):\n",
    "                neighbours += 0\n",
    "            \n",
    "            else: \n",
    "                # accumulate the sum of the adjacent values retrieved from the input array \n",
    "                neighbours += old_generation[ adj_idx[0] ][ adj_idx[1] ]\n",
    "            \n",
    "        neighbours_list.append(neighbours)\n",
    "    \n",
    "    # determine whether new generation cells are alive or dead based on old generation neighbour counts\n",
    "    \n",
    "    old_generation_list = [ int(_) for _ in np.nditer(old_generation) ] # input array to list \n",
    "    new_generation_list = []\n",
    "    \n",
    "    for idx in range(0,array_dim**2):\n",
    "        \n",
    "        # any live cell with two or three live neighbours lives on to the next generation\\\n",
    "        if old_generation_list[idx] == 1 and neighbours_list[idx] in [2,3]:\n",
    "            new_generation_list.append(1) \n",
    "            \n",
    "        # any live cell with fewer than two live neighbours dies, as if by underpopulation\n",
    "        # any live cell with more than three live neighbours dies, as if by overpopulation\n",
    "        elif old_generation_list[idx] == 1 and neighbours_list[idx] not in [2,3]:\n",
    "            new_generation_list.append(0) \n",
    "                \n",
    "        # any dead cell with exactly three live neighbours becomes a live cell, as if by reproduction\n",
    "        elif old_generation_list[idx] == 0 and neighbours_list[idx] == 3:\n",
    "            new_generation_list.append(1) \n",
    "                    \n",
    "        else:\n",
    "            new_generation_list.append(0)\n",
    "              \n",
    "    return np.reshape(new_generation_list, (array_dim,array_dim) )"
   ]
  },
  {
   "cell_type": "code",
   "execution_count": 5,
   "metadata": {
    "scrolled": true
   },
   "outputs": [],
   "source": [
    "# place generations in a list  \n",
    "\n",
    "arrays.append(array0) # add first generation to list\n",
    "\n",
    "# add subsequent generations to list\n",
    "for idx in range(no_arrays):\n",
    "    \n",
    "    arrays.append( create_new_generation(arrays[idx]) )    "
   ]
  },
  {
   "cell_type": "code",
   "execution_count": 6,
   "metadata": {
    "scrolled": false
   },
   "outputs": [],
   "source": [
    "# save png images\n",
    "\n",
    "save_results_to = '/Users/akwong/Desktop/Game_of_Life_Results/Test03/'\n",
    "\n",
    "counter = 0\n",
    "\n",
    "for array in arrays:    \n",
    "    \n",
    "    fig, ax = plt.subplots(figsize=(10,10))\n",
    "    \n",
    "    # note when displaying with matplot 0 is black and 1 is white, so 1-array to invert display colour\n",
    "    ax.imshow( 1 - array, cmap=plt.cm.gray, interpolation='none')\n",
    "    plt.axis('off')\n",
    "    \n",
    "    # add leading zeroes for image sequence number \n",
    "    img_no = ['0'] * ( len(str(no_arrays)) - len(str(counter)) )\n",
    "    img_no.append(str(counter))\n",
    "    img_no = ''.join( _ for _ in img_no )\n",
    "    \n",
    "    plt.savefig(save_results_to + \"image{img_no}.png\".format(img_no=img_no))\n",
    "    \n",
    "    counter += 1\n",
    "    \n",
    "    plt.close(fig) # close each plot after used to save memory  "
   ]
  },
  {
   "cell_type": "code",
   "execution_count": 7,
   "metadata": {
    "scrolled": true
   },
   "outputs": [],
   "source": [
    "# read png files to list \n",
    "\n",
    "images = []\n",
    "\n",
    "for filename in glob.glob('/Users/akwong/Desktop/Game_of_Life_Results/Test03/*.png'): \n",
    "    im = Image.open(filename)\n",
    "    images.append(im)"
   ]
  },
  {
   "cell_type": "code",
   "execution_count": 8,
   "metadata": {},
   "outputs": [],
   "source": [
    "# create gif file\n",
    "\n",
    "kargs = { 'duration': 0.5} # display image duration\n",
    "\n",
    "for image in images:\n",
    "    imageio.mimsave('/Users/akwong/Desktop/Game_of_Life_Results/Test03/game_of_life_03.gif', images, **kargs)"
   ]
  }
 ],
 "metadata": {
  "kernelspec": {
   "display_name": "Python 3",
   "language": "python",
   "name": "python3"
  },
  "language_info": {
   "codemirror_mode": {
    "name": "ipython",
    "version": 3
   },
   "file_extension": ".py",
   "mimetype": "text/x-python",
   "name": "python",
   "nbconvert_exporter": "python",
   "pygments_lexer": "ipython3",
   "version": "3.8.5"
  }
 },
 "nbformat": 4,
 "nbformat_minor": 4
}
